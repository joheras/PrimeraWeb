{
 "cells": [
  {
   "cell_type": "code",
   "execution_count": 1,
   "metadata": {
    "id": "oo3FYY-4RjkM"
   },
   "outputs": [],
   "source": [
    "import numpy as np\n",
    "import cv2\n",
    "import pickle\n",
    "import re,string\n",
    "from unicodedata import normalize\n",
    "import matplotlib.pyplot as plt\n",
    "import ipywidgets as widgets\n",
    "from IPython.display import display\n",
    "%matplotlib inline"
   ]
  },
  {
   "cell_type": "code",
   "execution_count": 3,
   "metadata": {
    "id": "_LCXQ9Ba35hU"
   },
   "outputs": [],
   "source": [
    "%%capture\n",
    "!unzip Fotos.zip"
   ]
  },
  {
   "cell_type": "code",
   "execution_count": 4,
   "metadata": {
    "id": "S2x_LyGchr62"
   },
   "outputs": [],
   "source": [
    "with open(\"texto.pickle\", \"rb\") as f:\n",
    "    texto = pickle.load(f)"
   ]
  },
  {
   "cell_type": "code",
   "execution_count": 5,
   "metadata": {
    "id": "4vEQLOK6ZXpM"
   },
   "outputs": [],
   "source": [
    "def remove_punctuation(frase):\n",
    "  char = re.sub('[%s]' % re.escape(string.punctuation.replace('-','')),'',frase)\n",
    "  char = char.replace('¿','').replace('?','').replace('`','').replace('´','').replace('#','').lower()\n",
    "  char = re.sub(\n",
    "        r\"([^n\\u0300-\\u036f]|n(?!\\u0303(?![\\u0300-\\u036f])))[\\u0300-\\u036f]+\", r\"\\1\", \n",
    "        normalize( \"NFD\", char), 0, re.I\n",
    "    )\n",
    "  char = normalize( 'NFC', char)\n",
    "  return char"
   ]
  },
  {
   "cell_type": "code",
   "execution_count": 6,
   "metadata": {
    "id": "VDVwlZkgZS-L"
   },
   "outputs": [],
   "source": [
    "def buscar(frase,texto): # Las fotos están en una carpeta. El texto es nuestro diccionario con la información.\n",
    "  frase2 = frase.upper()\n",
    "  fotos = []\n",
    "  frase = frase.split()\n",
    "  n = len(frase)\n",
    "  frase = ''.join(frase)\n",
    "  frase =  remove_punctuation(frase).replace(' ','')\n",
    "  for cla in texto:\n",
    "    foto = cv2.imread('Fotos/pag' + str(cla) + '.jpg') # Vamos abriendo las fotos página a página\n",
    "    foto = cv2.cvtColor(foto, cv2.COLOR_BGR2RGB)\n",
    "    N = len(texto[cla]['text'])\n",
    "    j = 0\n",
    "    encontrado = False\n",
    "    while j < N:\n",
    "      k = j\n",
    "      b = True\n",
    "      siguiente = texto[cla]['text'][j:n+j]\n",
    "      if siguiente[-1][-1] == '-':\n",
    "        siguiente = ''.join(texto[cla]['text'][j:n+j+1])\n",
    "        siguiente = siguiente.replace(' ','').replace('-','')\n",
    "        j = j + 1\n",
    "      else:\n",
    "        siguiente = ''.join(siguiente)\n",
    "        j = j + 1\n",
    "        b = False\n",
    "\n",
    "      if frase in siguiente:\n",
    "        encontrado = True\n",
    "        x = texto[cla]['left'][k]\n",
    "        y = texto[cla]['top'][k]\n",
    "        h = texto[cla]['height'][k]\n",
    "        w = 0\n",
    "        for i in range(k,k+n):\n",
    "          w = w + texto[cla]['width'][i] + 7 # le añado un poco más para tener en cuenta la separación entre palabras \n",
    "        cv2.rectangle(foto,(x-10,y-10),(x+w+10,y+h+10),(226,182,19),2)\n",
    "        if b:\n",
    "          x = texto[cla]['left'][k+n]\n",
    "          y = texto[cla]['top'][k+n]\n",
    "          h = texto[cla]['height'][k+n]\n",
    "          w = texto[cla]['width'][k+n]\n",
    "          cv2.rectangle(foto,(x-10,y-10),(x+w+10,y+h+10),(226,182,19),2)\n",
    "    if encontrado == True: fotos.append(foto)\n",
    "\n",
    "  n = len(fotos)\n",
    "  if n == 0:\n",
    "    print('La palabra no aparece o está mal escrita.')\n",
    "  else:\n",
    "    if len(fotos) == 1:\n",
    "      print('LA PALABRA \"' + frase2 + '\" APARECE EN ' + str(1) + ' PÁGINA.')\n",
    "    else:\n",
    "      print('LA PALABRA \"' + frase2 + '\" APARECE EN ' + str(len(fotos)) + ' PÁGINA.')\n",
    "    fig, ax = plt.subplots(n,1,figsize=(16*n,16*n))\n",
    "    for i in range(0,n):\n",
    "      if n == 1:\n",
    "        ax.imshow(fotos[i])\n",
    "      else:\n",
    "        ax[i].imshow(fotos[i])\n",
    "    plt.show()"
   ]
  },
  {
   "cell_type": "code",
   "execution_count": 7,
   "metadata": {
    "colab": {
     "base_uri": "https://localhost:8080/",
     "height": 81,
     "referenced_widgets": [
      "9c4f75d96e5f4de0b5a1b381d9b51c5a",
      "097577dcbec4413698fa808d65cc21b4",
      "aba49fcd8f424437a6eeb0ffbf3e92e8",
      "8ba8151e5b204ea0b8c7efbb07b7e309",
      "254017a9a8cd4007b76eedee8b3a1ce0",
      "bbfe0f937b4643378de74719799a00e2",
      "29a6565eebc947fab048311fc1602902",
      "97c44ef382264ae6ab754a6e9fc8d84e"
     ]
    },
    "id": "ClPZcOIe68zn",
    "outputId": "53603cd8-4220-4ab1-df69-fd9db0a8c17f"
   },
   "outputs": [
    {
     "data": {
      "application/vnd.jupyter.widget-view+json": {
       "model_id": "fb2d6f58af6e4795817cb9869f3c2c0d",
       "version_major": 2,
       "version_minor": 0
      },
      "text/plain": [
       "Text(value='', placeholder='Escribe algo')"
      ]
     },
     "metadata": {},
     "output_type": "display_data"
    },
    {
     "data": {
      "application/vnd.jupyter.widget-view+json": {
       "model_id": "1498624e1b0348a0b28b684d0cf6c5ca",
       "version_major": 2,
       "version_minor": 0
      },
      "text/plain": [
       "Button(description='Buscar', style=ButtonStyle())"
      ]
     },
     "metadata": {},
     "output_type": "display_data"
    },
    {
     "data": {
      "application/vnd.jupyter.widget-view+json": {
       "model_id": "5429149ea93541ddaa28146ad7d35ea1",
       "version_major": 2,
       "version_minor": 0
      },
      "text/plain": [
       "Output()"
      ]
     },
     "metadata": {},
     "output_type": "display_data"
    }
   ],
   "source": [
    "keyword=widgets.Text(\n",
    "    placeholder='Escribe algo',\n",
    "    disabled=False\n",
    ")\n",
    "display(keyword)\n",
    "\n",
    "\n",
    "button = widgets.Button(description=\"Buscar\")\n",
    "display(button)\n",
    "\n",
    "output = widgets.Output()\n",
    "@output.capture()\n",
    "def on_button_clicked(b):\n",
    "  output.clear_output()\n",
    "  if keyword.value == '': \n",
    "    print('No has escrito nada.')\n",
    "  else:\n",
    "    buscar(keyword.value,texto)\n",
    "\n",
    "button.on_click(on_button_clicked)\n",
    "display(output)"
   ]
  },
  {
   "cell_type": "code",
   "execution_count": null,
   "metadata": {},
   "outputs": [],
   "source": []
  }
 ],
 "metadata": {
  "colab": {
   "name": "Primera_Web.ipynb",
   "provenance": []
  },
  "kernelspec": {
   "display_name": "Python 3",
   "language": "python",
   "name": "python3"
  },
  "language_info": {
   "codemirror_mode": {
    "name": "ipython",
    "version": 3
   },
   "file_extension": ".py",
   "mimetype": "text/x-python",
   "name": "python",
   "nbconvert_exporter": "python",
   "pygments_lexer": "ipython3",
   "version": "3.6.8"
  },
  "widgets": {
   "application/vnd.jupyter.widget-state+json": {
    "097577dcbec4413698fa808d65cc21b4": {
     "model_module": "@jupyter-widgets/controls",
     "model_name": "DescriptionStyleModel",
     "state": {
      "_model_module": "@jupyter-widgets/controls",
      "_model_module_version": "1.5.0",
      "_model_name": "DescriptionStyleModel",
      "_view_count": null,
      "_view_module": "@jupyter-widgets/base",
      "_view_module_version": "1.2.0",
      "_view_name": "StyleView",
      "description_width": ""
     }
    },
    "254017a9a8cd4007b76eedee8b3a1ce0": {
     "model_module": "@jupyter-widgets/controls",
     "model_name": "ButtonStyleModel",
     "state": {
      "_model_module": "@jupyter-widgets/controls",
      "_model_module_version": "1.5.0",
      "_model_name": "ButtonStyleModel",
      "_view_count": null,
      "_view_module": "@jupyter-widgets/base",
      "_view_module_version": "1.2.0",
      "_view_name": "StyleView",
      "button_color": null,
      "font_weight": ""
     }
    },
    "29a6565eebc947fab048311fc1602902": {
     "model_module": "@jupyter-widgets/output",
     "model_name": "OutputModel",
     "state": {
      "_dom_classes": [],
      "_model_module": "@jupyter-widgets/output",
      "_model_module_version": "1.0.0",
      "_model_name": "OutputModel",
      "_view_count": null,
      "_view_module": "@jupyter-widgets/output",
      "_view_module_version": "1.0.0",
      "_view_name": "OutputView",
      "layout": "IPY_MODEL_97c44ef382264ae6ab754a6e9fc8d84e",
      "msg_id": "",
      "outputs": []
     }
    },
    "8ba8151e5b204ea0b8c7efbb07b7e309": {
     "model_module": "@jupyter-widgets/controls",
     "model_name": "ButtonModel",
     "state": {
      "_dom_classes": [],
      "_model_module": "@jupyter-widgets/controls",
      "_model_module_version": "1.5.0",
      "_model_name": "ButtonModel",
      "_view_count": null,
      "_view_module": "@jupyter-widgets/controls",
      "_view_module_version": "1.5.0",
      "_view_name": "ButtonView",
      "button_style": "",
      "description": "Buscar",
      "disabled": false,
      "icon": "",
      "layout": "IPY_MODEL_bbfe0f937b4643378de74719799a00e2",
      "style": "IPY_MODEL_254017a9a8cd4007b76eedee8b3a1ce0",
      "tooltip": ""
     }
    },
    "97c44ef382264ae6ab754a6e9fc8d84e": {
     "model_module": "@jupyter-widgets/base",
     "model_name": "LayoutModel",
     "state": {
      "_model_module": "@jupyter-widgets/base",
      "_model_module_version": "1.2.0",
      "_model_name": "LayoutModel",
      "_view_count": null,
      "_view_module": "@jupyter-widgets/base",
      "_view_module_version": "1.2.0",
      "_view_name": "LayoutView",
      "align_content": null,
      "align_items": null,
      "align_self": null,
      "border": null,
      "bottom": null,
      "display": null,
      "flex": null,
      "flex_flow": null,
      "grid_area": null,
      "grid_auto_columns": null,
      "grid_auto_flow": null,
      "grid_auto_rows": null,
      "grid_column": null,
      "grid_gap": null,
      "grid_row": null,
      "grid_template_areas": null,
      "grid_template_columns": null,
      "grid_template_rows": null,
      "height": null,
      "justify_content": null,
      "justify_items": null,
      "left": null,
      "margin": null,
      "max_height": null,
      "max_width": null,
      "min_height": null,
      "min_width": null,
      "object_fit": null,
      "object_position": null,
      "order": null,
      "overflow": null,
      "overflow_x": null,
      "overflow_y": null,
      "padding": null,
      "right": null,
      "top": null,
      "visibility": null,
      "width": null
     }
    },
    "9c4f75d96e5f4de0b5a1b381d9b51c5a": {
     "model_module": "@jupyter-widgets/controls",
     "model_name": "TextModel",
     "state": {
      "_dom_classes": [],
      "_model_module": "@jupyter-widgets/controls",
      "_model_module_version": "1.5.0",
      "_model_name": "TextModel",
      "_view_count": null,
      "_view_module": "@jupyter-widgets/controls",
      "_view_module_version": "1.5.0",
      "_view_name": "TextView",
      "continuous_update": true,
      "description": "",
      "description_tooltip": null,
      "disabled": false,
      "layout": "IPY_MODEL_aba49fcd8f424437a6eeb0ffbf3e92e8",
      "placeholder": "Escribe algo",
      "style": "IPY_MODEL_097577dcbec4413698fa808d65cc21b4",
      "value": ""
     }
    },
    "aba49fcd8f424437a6eeb0ffbf3e92e8": {
     "model_module": "@jupyter-widgets/base",
     "model_name": "LayoutModel",
     "state": {
      "_model_module": "@jupyter-widgets/base",
      "_model_module_version": "1.2.0",
      "_model_name": "LayoutModel",
      "_view_count": null,
      "_view_module": "@jupyter-widgets/base",
      "_view_module_version": "1.2.0",
      "_view_name": "LayoutView",
      "align_content": null,
      "align_items": null,
      "align_self": null,
      "border": null,
      "bottom": null,
      "display": null,
      "flex": null,
      "flex_flow": null,
      "grid_area": null,
      "grid_auto_columns": null,
      "grid_auto_flow": null,
      "grid_auto_rows": null,
      "grid_column": null,
      "grid_gap": null,
      "grid_row": null,
      "grid_template_areas": null,
      "grid_template_columns": null,
      "grid_template_rows": null,
      "height": null,
      "justify_content": null,
      "justify_items": null,
      "left": null,
      "margin": null,
      "max_height": null,
      "max_width": null,
      "min_height": null,
      "min_width": null,
      "object_fit": null,
      "object_position": null,
      "order": null,
      "overflow": null,
      "overflow_x": null,
      "overflow_y": null,
      "padding": null,
      "right": null,
      "top": null,
      "visibility": null,
      "width": null
     }
    },
    "bbfe0f937b4643378de74719799a00e2": {
     "model_module": "@jupyter-widgets/base",
     "model_name": "LayoutModel",
     "state": {
      "_model_module": "@jupyter-widgets/base",
      "_model_module_version": "1.2.0",
      "_model_name": "LayoutModel",
      "_view_count": null,
      "_view_module": "@jupyter-widgets/base",
      "_view_module_version": "1.2.0",
      "_view_name": "LayoutView",
      "align_content": null,
      "align_items": null,
      "align_self": null,
      "border": null,
      "bottom": null,
      "display": null,
      "flex": null,
      "flex_flow": null,
      "grid_area": null,
      "grid_auto_columns": null,
      "grid_auto_flow": null,
      "grid_auto_rows": null,
      "grid_column": null,
      "grid_gap": null,
      "grid_row": null,
      "grid_template_areas": null,
      "grid_template_columns": null,
      "grid_template_rows": null,
      "height": null,
      "justify_content": null,
      "justify_items": null,
      "left": null,
      "margin": null,
      "max_height": null,
      "max_width": null,
      "min_height": null,
      "min_width": null,
      "object_fit": null,
      "object_position": null,
      "order": null,
      "overflow": null,
      "overflow_x": null,
      "overflow_y": null,
      "padding": null,
      "right": null,
      "top": null,
      "visibility": null,
      "width": null
     }
    }
   }
  }
 },
 "nbformat": 4,
 "nbformat_minor": 1
}
